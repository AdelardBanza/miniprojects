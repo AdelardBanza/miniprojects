{
 "cells": [
  {
   "cell_type": "code",
   "execution_count": 1,
   "metadata": {
    "collapsed": true
   },
   "outputs": [],
   "source": [
    "# !wget -O yelp_business.json.gz http://thedataincubator.s3.amazonaws.com/coursedata/mldata/yelp_train_academic_dataset_business.json.gz"
   ]
  },
  {
   "cell_type": "code",
   "execution_count": 59,
   "metadata": {
    "collapsed": false
   },
   "outputs": [],
   "source": [
    "# importing modules\n",
    "import pandas as pd\n",
    "import numpy as np\n",
    "from sklearn.cross_validation import train_test_split\n",
    "from sklearn.base import BaseEstimator, ClassifierMixin, RegressorMixin, TransformerMixin\n",
    "from sklearn.linear_model import Ridge, LinearRegression, Lasso\n",
    "from sklearn.neighbors import KNeighborsRegressor\n",
    "from sklearn.grid_search import GridSearchCV\n",
    "from sklearn.ensemble import RandomForestRegressor\n",
    "import pickle\n",
    "import dill\n",
    "from sklearn.feature_extraction import DictVectorizer\n",
    "import time\n",
    "import toolz\n",
    "from sklearn.pipeline import FeatureUnion, Pipeline\n",
    "import gzip, ujson, re, json\n",
    "from sklearn import cross_validation\n",
    "from sklearn import metrics, base, neighbors, grid_search\n",
    "import os\n",
    "from sklearn.feature_extraction.text import TfidfVectorizer\n",
    "from sklearn.feature_extraction.text import CountVectorizer\n",
    "from sklearn.feature_extraction.text import TfidfTransformer\n",
    "from scipy import sparse\n",
    "from sklearn import linear_model"
   ]
  },
  {
   "cell_type": "code",
   "execution_count": 19,
   "metadata": {
    "collapsed": false
   },
   "outputs": [],
   "source": [
    "### Read json data ###\n",
    "with gzip.open('yelp_business.json.gz') as f:\n",
    "    data = pd.DataFrame(json.loads(line) for line in f)\n",
    "X, y = data, data['stars']"
   ]
  },
  {
   "cell_type": "code",
   "execution_count": 20,
   "metadata": {
    "collapsed": true
   },
   "outputs": [],
   "source": [
    "### Customized transformers ###\n",
    "class ColumnSelectTransformer(base.BaseEstimator, base.TransformerMixin):\n",
    "    def __init__(self, keys):\n",
    "        self.keys = keys\n",
    "\n",
    "    def fit(self, X, y=None):\n",
    "        return self\n",
    "\n",
    "    def transform(self, X):\n",
    "        return X[self.keys]\n",
    "\n",
    "\n",
    "class CategoryTransformer(base.BaseEstimator, base.TransformerMixin):\n",
    "    def __init__(self):\n",
    "        pass\n",
    "\n",
    "    def fit(self, X, y=None):\n",
    "        return self\n",
    "\n",
    "    def transform(self, X):\n",
    "        D = []\n",
    "        for record in X.values:\n",
    "            D.append({k:1 for k in record[0]})\n",
    "        return D\n",
    "\n",
    "\n",
    "class AttributeTransformer(base.BaseEstimator, base.TransformerMixin):\n",
    "    def __init__(self):\n",
    "        pass\n",
    "\n",
    "    def _flatten(self, d, parent_key='', sep='_'):\n",
    "        \"\"\" Flatten dictonary\n",
    "        \"\"\"\n",
    "        import collections\n",
    "        items = []\n",
    "        for k, v in d.items():\n",
    "            new_key = parent_key + sep + k if parent_key else k\n",
    "            if isinstance(v, collections.MutableMapping):\n",
    "                items.extend(self._flatten(v, new_key, sep=sep).items())\n",
    "            else:\n",
    "                new_v = 1 if v == True else 0\n",
    "                items.append((new_key, new_v))\n",
    "        return dict(items)\n",
    "\n",
    "    def fit(self, X, y=None):\n",
    "        return self\n",
    "\n",
    "    def transform(self, X):\n",
    "        D = []\n",
    "        for record in X.values:\n",
    "            D.append(self._flatten(record[0]))\n",
    "        return D\n",
    "\n",
    "\n",
    "class ModelTransformer(base.BaseEstimator, base.TransformerMixin):\n",
    "    def __init__(self, model):\n",
    "        self.model = model\n",
    "\n",
    "    def fit(self, *args, **kwargs):\n",
    "        self.model.fit(*args, **kwargs)\n",
    "        return self\n",
    "\n",
    "    def transform(self, X, **transform_params):\n",
    "        return pd.DataFrame(self.model.predict(X))"
   ]
  },
  {
   "cell_type": "markdown",
   "metadata": {},
   "source": [
    "# Question 1"
   ]
  },
  {
   "cell_type": "code",
   "execution_count": 72,
   "metadata": {
    "collapsed": true
   },
   "outputs": [],
   "source": [
    "### Q1: city_model ###\n",
    "class CityEstimator(base.BaseEstimator, base.RegressorMixin):\n",
    "    def __init__(self):\n",
    "        pass\n",
    "\n",
    "    def fit(self, X, y):\n",
    "        df = pd.concat([X, y], axis=1)\n",
    "        self.mean_by_city = df.groupby('city').mean()\n",
    "        return self\n",
    "\n",
    "    def predict(self, X):\n",
    "        city = X.ix[0]['city']\n",
    "        try:\n",
    "            score = self.mean_by_city.ix[city]\n",
    "        except:\n",
    "            score = self.mean_by_city.mean()\n",
    "        return float(score)"
   ]
  },
  {
   "cell_type": "code",
   "execution_count": 75,
   "metadata": {
    "collapsed": false
   },
   "outputs": [],
   "source": [
    "city_pipeline = Pipeline([\n",
    "    ('trans', ColumnSelectTransformer(['city'])),\n",
    "    ('est', CityEstimator())\n",
    "])\n",
    "city_pipeline.fit(X, y)\n",
    "dill.dump(city_pipeline, open('city_model.txt', 'wb'))\n",
    "#dill.dump(city_pipeline, open('city_model.pkl', 'wb'))"
   ]
  },
  {
   "cell_type": "code",
   "execution_count": 76,
   "metadata": {
    "collapsed": false
   },
   "outputs": [],
   "source": [
    "### Q2: lat_long_model ###\n",
    "lat_long_pipeline = Pipeline([\n",
    "    ('trans', ColumnSelectTransformer(['latitude', 'longitude'])),\n",
    "    ('est', neighbors.KNeighborsRegressor())\n",
    "])\n",
    "cv = cross_validation.ShuffleSplit(len(y), n_iter=20, test_size=0.2, random_state=42)\n",
    "knn_param_grid = { \"est__n_neighbors\": range(4, 24, 4) }\n",
    "knn_regression_cv = grid_search.GridSearchCV(lat_long_pipeline,\n",
    "                                             param_grid=knn_param_grid, cv=cv,\n",
    "                                             scoring=\"mean_squared_error\")\n",
    "knn_regression_cv.fit(X, y)\n",
    "dill.dump(knn_regression_cv.best_estimator_, open('lat_long_model.txt','wb'))\n",
    "#dill.dump(knn_regression_cv.best_estimator_, open('lat_long_model.pkl','wb'))"
   ]
  },
  {
   "cell_type": "code",
   "execution_count": 77,
   "metadata": {
    "collapsed": false
   },
   "outputs": [],
   "source": [
    "### Q3: category_model ###\n",
    "category_pipeline = Pipeline([\n",
    "    ('trans', ColumnSelectTransformer(['categories'])),\n",
    "    ('cat_trans', CategoryTransformer()),\n",
    "    ('vect', DictVectorizer()),\n",
    "    ('tfidf_vect', TfidfTransformer()),\n",
    "    ('est', linear_model.Ridge())\n",
    "])\n",
    "cv = cross_validation.ShuffleSplit(len(y), n_iter=20, test_size=0.2, random_state=42)\n",
    "param_grid = { \"est__alpha\": np.logspace(-1, 1, 5) }\n",
    "ridge_cv = grid_search.GridSearchCV(category_pipeline,\n",
    "                                    param_grid=param_grid, cv=cv,\n",
    "                                    scoring=\"mean_squared_error\")\n",
    "ridge_cv.fit(X, y)\n",
    "dill.dump(ridge_cv.best_estimator_, open('category_model_gridsearch.txt','wb'))\n",
    "#dill.dump(ridge_cv.best_estimator_, open('category_model_gridsearch.pkl','wb'))"
   ]
  },
  {
   "cell_type": "code",
   "execution_count": 78,
   "metadata": {
    "collapsed": false
   },
   "outputs": [],
   "source": [
    "### Q4: attribute_knn_model ###\n",
    "attribute_pipeline = Pipeline([\n",
    "    ('trans', ColumnSelectTransformer(['attributes'])),\n",
    "    ('cat_trans', AttributeTransformer()),\n",
    "    ('vect', DictVectorizer()),\n",
    "    ('est', linear_model.Ridge())\n",
    "])\n",
    "ridge_param_grid = { \"est__alpha\": np.logspace(-6., -.3, 20) }\n",
    "attribute_ridge_cv = grid_search.GridSearchCV(attribute_pipeline,\n",
    "                                              param_grid=ridge_param_grid, cv=cv,\n",
    "                                              scoring=\"mean_squared_error\")\n",
    "attribute_ridge_cv.fit(X, y)\n",
    "dill.dump(attribute_ridge_cv.best_estimator_, open('attribute_knn_model.txt','wb'))\n",
    "#dill.dump(attribute_ridge_cv.best_estimator_, open('attribute_knn_model.pkl','wb'))"
   ]
  },
  {
   "cell_type": "code",
   "execution_count": 80,
   "metadata": {
    "collapsed": false
   },
   "outputs": [],
   "source": [
    "### Q5: full_model ###\n",
    "full_pipeline = Pipeline([\n",
    "    ('feature_union', FeatureUnion([\n",
    "        ('lat_long_feature', Pipeline([\n",
    "            ('col_select', ColumnSelectTransformer(['latitude', 'longitude'])),\n",
    "            ('knn', ModelTransformer(neighbors.KNeighborsRegressor(n_neighbors=20)))\n",
    "            ])),\n",
    "        ('category_feature', Pipeline([\n",
    "            ('col_select', ColumnSelectTransformer(['categories'])),\n",
    "            ('cat_trans', CategoryTransformer()),\n",
    "            ('vect', DictVectorizer()),\n",
    "            ('tfidf_vect', TfidfTransformer()),\n",
    "            ])),\n",
    "        ('attribute_feature', Pipeline([\n",
    "            ('col_select', ColumnSelectTransformer(['attributes'])),\n",
    "            ('attr_transformer', AttributeTransformer()),\n",
    "            ('vectorizer', DictVectorizer())\n",
    "            ]))\n",
    "        ])),\n",
    "    ('est', linear_model.Ridge())\n",
    "])\n",
    "ridge_param_grid = { \"est__alpha\": np.logspace(-6., -.3, 20) }\n",
    "full_ridge_cv = grid_search.GridSearchCV(full_pipeline,\n",
    "                                         param_grid=ridge_param_grid, cv=cv,\n",
    "                                         scoring=\"mean_squared_error\")\n",
    "full_ridge_cv.fit(X, y)\n",
    "dill.dump(full_ridge_cv.best_estimator_, open('full_model_gridsearch.txt','wb'))\n",
    "#dill.dump(full_ridge_cv.best_estimator_, open('full_model_gridsearch.pkl','wb'))"
   ]
  },
  {
   "cell_type": "code",
   "execution_count": 82,
   "metadata": {
    "collapsed": false
   },
   "outputs": [
    {
     "name": "stdout",
     "output_type": "stream",
     "text": [
      "/home/adelard/mlearning\r\n"
     ]
    }
   ],
   "source": [
    "!pwd"
   ]
  },
  {
   "cell_type": "code",
   "execution_count": 84,
   "metadata": {
    "collapsed": false
   },
   "outputs": [],
   "source": [
    "f=open('city_model.txt', 'rb')\n",
    "city_model=dill.loads(f.read())\n",
    "f.close()"
   ]
  },
  {
   "cell_type": "code",
   "execution_count": 85,
   "metadata": {
    "collapsed": true
   },
   "outputs": [],
   "source": [
    "f=open('lat_long_model.txt', 'rb')\n",
    "lat_long_model=dill.loads(f.read())\n",
    "f.close()"
   ]
  },
  {
   "cell_type": "code",
   "execution_count": 86,
   "metadata": {
    "collapsed": true
   },
   "outputs": [],
   "source": [
    "f=open('attribute_knn_model.txt', 'rb')\n",
    "attribute_knn_model=dill.loads(f.read())\n",
    "f.close()"
   ]
  },
  {
   "cell_type": "code",
   "execution_count": 87,
   "metadata": {
    "collapsed": true
   },
   "outputs": [],
   "source": [
    "f=open('category_model_gridsearch.txt', 'rb')\n",
    "category_model_gridsearch_model=dill.loads(f.read())\n",
    "f.close()"
   ]
  },
  {
   "cell_type": "code",
   "execution_count": 88,
   "metadata": {
    "collapsed": true
   },
   "outputs": [],
   "source": [
    "f=open('full_model_gridsearch.txt', 'rb')\n",
    "full_model_gridsearch=dill.loads(f.read())\n",
    "f.close()"
   ]
  },
  {
   "cell_type": "code",
   "execution_count": 69,
   "metadata": {
    "collapsed": false
   },
   "outputs": [
    {
     "name": "stdout",
     "output_type": "stream",
     "text": [
      "/home/adelard/mlearning\r\n"
     ]
    }
   ],
   "source": [
    "!pwd"
   ]
  },
  {
   "cell_type": "code",
   "execution_count": 70,
   "metadata": {
    "collapsed": false
   },
   "outputs": [
    {
     "name": "stdout",
     "output_type": "stream",
     "text": [
      "/home/adelard/mlearning\r\n"
     ]
    }
   ],
   "source": [
    "!pwd"
   ]
  },
  {
   "cell_type": "code",
   "execution_count": null,
   "metadata": {
    "collapsed": true
   },
   "outputs": [],
   "source": []
  }
 ],
 "metadata": {
  "kernelspec": {
   "display_name": "Python 2",
   "language": "python",
   "name": "python2"
  },
  "language_info": {
   "codemirror_mode": {
    "name": "ipython",
    "version": 2
   },
   "file_extension": ".py",
   "mimetype": "text/x-python",
   "name": "python",
   "nbconvert_exporter": "python",
   "pygments_lexer": "ipython2",
   "version": "2.7.10"
  }
 },
 "nbformat": 4,
 "nbformat_minor": 0
}

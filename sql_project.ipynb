{
 "cells": [
  {
   "cell_type": "code",
   "execution_count": 32,
   "metadata": {
    "collapsed": true
   },
   "outputs": [],
   "source": [
    "import pandas as pd, numpy as np, re\n",
    "import csv\n",
    "from datetime import datetime"
   ]
  },
  {
   "cell_type": "markdown",
   "metadata": {},
   "source": [
    "# Doing some clean up"
   ]
  },
  {
   "cell_type": "code",
   "execution_count": 33,
   "metadata": {
    "collapsed": true
   },
   "outputs": [],
   "source": [
    "# Doing some clean up\n",
    "def remove_quotes(label):\n",
    "    return re.sub(r\"'\", \"\", label)\n",
    "\n",
    "def read_remove_quotes(filename, outputname, row_length ):\n",
    "    with open(filename) as f:\n",
    "        df = csv.reader(f)\n",
    "        table_f = []\n",
    "        index = 0\n",
    "        for line in df:\n",
    "            if ((len(line) == row_length) & (len(line)>0)):\n",
    "                table_f.append([word for word in line])\n",
    "                index += 1\n",
    "\n",
    "    with open(outputname, 'wb') as csvfile:\n",
    "        write_f = csv.writer(csvfile, delimiter=',')\n",
    "        for row in table_f: write_f.writerow(row)"
   ]
  },
  {
   "cell_type": "code",
   "execution_count": 34,
   "metadata": {
    "collapsed": true
   },
   "outputs": [],
   "source": [
    "\n",
    "\n",
    "def read_csv(filename):\n",
    "    with open(filename) as f:\n",
    "        df = csv.reader(f)\n",
    "        w = [line for line in df]\n",
    "        return w"
   ]
  },
  {
   "cell_type": "code",
   "execution_count": 35,
   "metadata": {
    "collapsed": false
   },
   "outputs": [],
   "source": [
    "cuisine = read_csv(\"Cuisine.txt\")\n",
    "read_remove_quotes(\"Cuisine.txt\", \"Cuisine_clean.csv\", 2)"
   ]
  },
  {
   "cell_type": "code",
   "execution_count": 36,
   "metadata": {
    "collapsed": false
   },
   "outputs": [],
   "source": [
    "webex = read_csv(\"WebExtract.txt\")\n",
    "read_remove_quotes(\"WebExtract.txt\", \"WebExtract_clean.csv\", 15)"
   ]
  },
  {
   "cell_type": "code",
   "execution_count": 37,
   "metadata": {
    "collapsed": true
   },
   "outputs": [],
   "source": [
    "action = read_csv(\"Action.txt\")\n",
    "laction = [len(a) for a in action] # each row has length 4\n",
    "read_remove_quotes(\"Action.txt\", \"Action_clean.csv\", 4)"
   ]
  },
  {
   "cell_type": "code",
   "execution_count": 38,
   "metadata": {
    "collapsed": false
   },
   "outputs": [
    {
     "name": "stderr",
     "output_type": "stream",
     "text": [
      "/opt/conda/lib/python2.7/site-packages/pandas/io/parsers.py:1170: DtypeWarning: Columns (6) have mixed types. Specify dtype option on import or set low_memory=False.\n",
      "  data = self._reader.read(nrows)\n"
     ]
    },
    {
     "data": {
      "text/html": [
       "<div>\n",
       "<table border=\"1\" class=\"dataframe\">\n",
       "  <thead>\n",
       "    <tr style=\"text-align: right;\">\n",
       "      <th></th>\n",
       "      <th>CAMIS</th>\n",
       "      <th>DBA</th>\n",
       "      <th>BORO</th>\n",
       "      <th>BUILDING</th>\n",
       "      <th>STREET</th>\n",
       "      <th>ZIPCODE</th>\n",
       "      <th>PHONE</th>\n",
       "      <th>CUISINECODE</th>\n",
       "      <th>INSPDATE</th>\n",
       "      <th>ACTION</th>\n",
       "      <th>VIOLCODE</th>\n",
       "      <th>SCORE</th>\n",
       "      <th>CURRENTGRADE</th>\n",
       "      <th>GRADEDATE</th>\n",
       "      <th>RECORDDATE</th>\n",
       "    </tr>\n",
       "  </thead>\n",
       "  <tbody>\n",
       "    <tr>\n",
       "      <th>0</th>\n",
       "      <td>30075445</td>\n",
       "      <td>MORRIS PARK BAKE SHOP</td>\n",
       "      <td>2</td>\n",
       "      <td>1007</td>\n",
       "      <td>MORRIS PARK AVE                               ...</td>\n",
       "      <td>10462</td>\n",
       "      <td>7188924968</td>\n",
       "      <td>8</td>\n",
       "      <td>2014-03-03 00:00:00</td>\n",
       "      <td>D</td>\n",
       "      <td>10F</td>\n",
       "      <td>2</td>\n",
       "      <td>A</td>\n",
       "      <td>2014-03-03 00:00:00</td>\n",
       "      <td>2014-09-04 06:01:28.403000000</td>\n",
       "    </tr>\n",
       "    <tr>\n",
       "      <th>1</th>\n",
       "      <td>30112340</td>\n",
       "      <td>WENDY'S</td>\n",
       "      <td>3</td>\n",
       "      <td>469</td>\n",
       "      <td>FLATBUSH AVENUE</td>\n",
       "      <td>11225</td>\n",
       "      <td>7182875005</td>\n",
       "      <td>39</td>\n",
       "      <td>2014-07-01 00:00:00</td>\n",
       "      <td>F</td>\n",
       "      <td>06A</td>\n",
       "      <td>23</td>\n",
       "      <td>B</td>\n",
       "      <td>2014-07-01 00:00:00</td>\n",
       "      <td>2014-09-04 06:01:28.403000000</td>\n",
       "    </tr>\n",
       "    <tr>\n",
       "      <th>2</th>\n",
       "      <td>30191841</td>\n",
       "      <td>DJ REYNOLDS PUB AND RESTAURANT</td>\n",
       "      <td>1</td>\n",
       "      <td>351</td>\n",
       "      <td>WEST 57 STREET</td>\n",
       "      <td>10019</td>\n",
       "      <td>2122452912</td>\n",
       "      <td>3</td>\n",
       "      <td>2013-07-22 00:00:00</td>\n",
       "      <td>D</td>\n",
       "      <td>10B</td>\n",
       "      <td>11</td>\n",
       "      <td>A</td>\n",
       "      <td>2013-07-22 00:00:00</td>\n",
       "      <td>2014-09-04 06:01:28.403000000</td>\n",
       "    </tr>\n",
       "    <tr>\n",
       "      <th>3</th>\n",
       "      <td>40356483</td>\n",
       "      <td>WILKEN'S FINE FOOD</td>\n",
       "      <td>3</td>\n",
       "      <td>7114</td>\n",
       "      <td>AVENUE U</td>\n",
       "      <td>11234</td>\n",
       "      <td>7184443838</td>\n",
       "      <td>27</td>\n",
       "      <td>2014-05-29 00:00:00</td>\n",
       "      <td>D</td>\n",
       "      <td>08C</td>\n",
       "      <td>10</td>\n",
       "      <td>A</td>\n",
       "      <td>2014-05-29 00:00:00</td>\n",
       "      <td>2014-09-04 06:01:28.403000000</td>\n",
       "    </tr>\n",
       "    <tr>\n",
       "      <th>4</th>\n",
       "      <td>30191841</td>\n",
       "      <td>DJ REYNOLDS PUB AND RESTAURANT</td>\n",
       "      <td>1</td>\n",
       "      <td>351</td>\n",
       "      <td>WEST 57 STREET</td>\n",
       "      <td>10019</td>\n",
       "      <td>2122452912</td>\n",
       "      <td>3</td>\n",
       "      <td>2013-07-22 00:00:00</td>\n",
       "      <td>D</td>\n",
       "      <td>02G</td>\n",
       "      <td>11</td>\n",
       "      <td>A</td>\n",
       "      <td>2013-07-22 00:00:00</td>\n",
       "      <td>2014-09-04 06:01:28.403000000</td>\n",
       "    </tr>\n",
       "  </tbody>\n",
       "</table>\n",
       "</div>"
      ],
      "text/plain": [
       "      CAMIS                             DBA  BORO    BUILDING  \\\n",
       "0  30075445           MORRIS PARK BAKE SHOP     2  1007         \n",
       "1  30112340                         WENDY'S     3         469   \n",
       "2  30191841  DJ REYNOLDS PUB AND RESTAURANT     1         351   \n",
       "3  40356483              WILKEN'S FINE FOOD     3  7114         \n",
       "4  30191841  DJ REYNOLDS PUB AND RESTAURANT     1         351   \n",
       "\n",
       "                                              STREET  ZIPCODE       PHONE  \\\n",
       "0  MORRIS PARK AVE                               ...    10462  7188924968   \n",
       "1                                    FLATBUSH AVENUE    11225  7182875005   \n",
       "2                                     WEST 57 STREET    10019  2122452912   \n",
       "3                   AVENUE U                            11234  7184443838   \n",
       "4                                     WEST 57 STREET    10019  2122452912   \n",
       "\n",
       "   CUISINECODE             INSPDATE ACTION VIOLCODE  SCORE CURRENTGRADE  \\\n",
       "0            8  2014-03-03 00:00:00      D      10F      2            A   \n",
       "1           39  2014-07-01 00:00:00      F      06A     23            B   \n",
       "2            3  2013-07-22 00:00:00      D      10B     11            A   \n",
       "3           27  2014-05-29 00:00:00      D      08C     10            A   \n",
       "4            3  2013-07-22 00:00:00      D      02G     11            A   \n",
       "\n",
       "             GRADEDATE                     RECORDDATE  \n",
       "0  2014-03-03 00:00:00  2014-09-04 06:01:28.403000000  \n",
       "1  2014-07-01 00:00:00  2014-09-04 06:01:28.403000000  \n",
       "2  2013-07-22 00:00:00  2014-09-04 06:01:28.403000000  \n",
       "3  2014-05-29 00:00:00  2014-09-04 06:01:28.403000000  \n",
       "4  2013-07-22 00:00:00  2014-09-04 06:01:28.403000000  "
      ]
     },
     "execution_count": 38,
     "metadata": {},
     "output_type": "execute_result"
    }
   ],
   "source": [
    "webextract = pd.io.parsers.read_csv('WebExtract.txt')\n",
    "webextract.head()"
   ]
  },
  {
   "cell_type": "code",
   "execution_count": 39,
   "metadata": {
    "collapsed": true
   },
   "outputs": [],
   "source": [
    "# what datatypes should be\n",
    "web_type = {\"CAMIS\" : str, \"DBA\" : str,\"BORO\"  :str, \"BUILDING\" : str, \"STREET\" : str,\n",
    "\"ZIPCODE\" : str, \"PHONE\" : str,\"CUISINECODE\" : str,\n",
    "\"INSPDATE\" : datetime, \"ACTION\" : str,\"VIOLCODE\" : str,\n",
    "\"SCORE\" : int, \"CURRENTGRADE\" : str, \"GRADEDATE\" : datetime,\n",
    "\"RECORDDATE\" : datetime}\n",
    "\n",
    "# for (key, value) in web_type.iteritems():\n",
    "#    if web[key].dtype == float: web[key] = web[key].astype(int)\n",
    "#    web[key] = web[key].astype(value)"
   ]
  },
  {
   "cell_type": "code",
   "execution_count": 40,
   "metadata": {
    "collapsed": false
   },
   "outputs": [],
   "source": [
    "#Return a list of tuples of the form\n",
    "# (zipcode, mean grade, standard error, number of inspections)`\n",
    "# for each of the 183 zipcodes in the city with over 100 inspections.  \n",
    "# Sort the list in ascending order by score.\n",
    "\n",
    "zips = webextract[[\"ZIPCODE\", \"SCORE\"]]\n",
    "zips = zips.dropna()"
   ]
  },
  {
   "cell_type": "code",
   "execution_count": 41,
   "metadata": {
    "collapsed": false
   },
   "outputs": [],
   "source": [
    "zips[\"ZIPCODE\"] = zips[\"ZIPCODE\"].astype(int).astype(str)\n",
    "zips[\"SCORE\"] = zips[\"SCORE\"].astype(np.int)"
   ]
  },
  {
   "cell_type": "code",
   "execution_count": 42,
   "metadata": {
    "collapsed": false
   },
   "outputs": [],
   "source": [
    "# add sum, mean, stddev per zipcodes\n",
    "gzips = zips.groupby(\"ZIPCODE\")\n",
    "\n",
    "gzips_agg = gzips[\"SCORE\"].agg({'mean': np.mean, 'std_dev': np.std, 'count': len})\n",
    "# add standard erro\n",
    "gzips_agg['std_error'] = gzips_agg['std_dev']/np.sqrt(gzips_agg['count'])"
   ]
  },
  {
   "cell_type": "code",
   "execution_count": 43,
   "metadata": {
    "collapsed": true
   },
   "outputs": [],
   "source": [
    "# select only top 100 scores\n",
    "final_gzips = gzips_agg.sort(columns = 'mean', ascending=False)\n",
    "final_gzips = final_gzips[final_gzips['count'] > 100][[\"mean\", \"std_error\", \"count\"]]"
   ]
  },
  {
   "cell_type": "code",
   "execution_count": 44,
   "metadata": {
    "collapsed": false
   },
   "outputs": [],
   "source": [
    "#write to answer 1\n",
    "final_gzips.to_csv(\"answers/a1.csv\", line_terminator=\"),(\", \n",
    "                  quoting= csv.QUOTE_NONNUMERIC)"
   ]
  },
  {
   "cell_type": "code",
   "execution_count": 45,
   "metadata": {
    "collapsed": false
   },
   "outputs": [
    {
     "data": {
      "text/plain": [
       "Index([u'CAMIS', u'DBA', u'BORO', u'BUILDING', u'STREET', u'ZIPCODE', u'PHONE',\n",
       "       u'CUISINECODE', u'INSPDATE', u'ACTION', u'VIOLCODE', u'SCORE',\n",
       "       u'CURRENTGRADE', u'GRADEDATE', u'RECORDDATE'],\n",
       "      dtype='object')"
      ]
     },
     "execution_count": 45,
     "metadata": {},
     "output_type": "execute_result"
    }
   ],
   "source": [
    "# QUESTION 3\n",
    "##############################\n",
    "\n",
    "# Return a list of tuples of the form\n",
    "#  `(borough, mean grade, stderr, number of inspections)`\n",
    "#  for each of the city's five boroughs.  \n",
    "# **Hint**: you will have to perform a join with the `boroughs` table.  \n",
    "# Sort the list in ascending order by score.\n",
    "\n",
    "\n",
    "webextract.columns"
   ]
  },
  {
   "cell_type": "code",
   "execution_count": 46,
   "metadata": {
    "collapsed": false
   },
   "outputs": [
    {
     "data": {
      "text/html": [
       "<div>\n",
       "<table border=\"1\" class=\"dataframe\">\n",
       "  <thead>\n",
       "    <tr style=\"text-align: right;\">\n",
       "      <th></th>\n",
       "      <th>SCORE</th>\n",
       "      <th>boro_names</th>\n",
       "    </tr>\n",
       "  </thead>\n",
       "  <tbody>\n",
       "    <tr>\n",
       "      <th>0</th>\n",
       "      <td>2</td>\n",
       "      <td>THE BRONX</td>\n",
       "    </tr>\n",
       "    <tr>\n",
       "      <th>1</th>\n",
       "      <td>23</td>\n",
       "      <td>BROOKLYN</td>\n",
       "    </tr>\n",
       "    <tr>\n",
       "      <th>2</th>\n",
       "      <td>11</td>\n",
       "      <td>MANHATTAN</td>\n",
       "    </tr>\n",
       "    <tr>\n",
       "      <th>3</th>\n",
       "      <td>10</td>\n",
       "      <td>BROOKLYN</td>\n",
       "    </tr>\n",
       "    <tr>\n",
       "      <th>4</th>\n",
       "      <td>11</td>\n",
       "      <td>MANHATTAN</td>\n",
       "    </tr>\n",
       "  </tbody>\n",
       "</table>\n",
       "</div>"
      ],
      "text/plain": [
       "   SCORE boro_names\n",
       "0      2  THE BRONX\n",
       "1     23   BROOKLYN\n",
       "2     11  MANHATTAN\n",
       "3     10   BROOKLYN\n",
       "4     11  MANHATTAN"
      ]
     },
     "execution_count": 46,
     "metadata": {},
     "output_type": "execute_result"
    }
   ],
   "source": [
    "# add boro names and select out scores and boros\n",
    "\n",
    "boro_names = pd.DataFrame({'boro_names' : pd.Series({1: \"MANHATTAN\", 2 : \"THE BRONX\", 3 : \"BROOKLYN\", \n",
    "                           4 : \"QUEENS\", 5 : \"STATEN ISLAND\"})} )\n",
    "boro = webextract[['SCORE', 'BORO']].join(boro_names, on = ['BORO'])\n",
    "boro = boro.drop('BORO', axis=1)\n",
    "boro.head()"
   ]
  },
  {
   "cell_type": "code",
   "execution_count": 47,
   "metadata": {
    "collapsed": true
   },
   "outputs": [],
   "source": [
    "boro[\"boro_names\"] = boro[\"boro_names\"].astype(str) #change boro datatype to string"
   ]
  },
  {
   "cell_type": "code",
   "execution_count": 48,
   "metadata": {
    "collapsed": true
   },
   "outputs": [],
   "source": [
    "# group by boro\n",
    "g_boro = boro.groupby('boro_names')\n",
    "\n",
    "# do calculations per boro\n",
    "boro_scores = g_boro['SCORE'].agg({'mean': np.mean, 'std_dev':np.std, 'count': len  })\n",
    "boro_scores['std_error'] = boro_scores['std_dev']/np.sqrt(boro_scores['count'])\n",
    "boro_scores = boro_scores[['mean', 'std_error', 'count']]\n",
    "\n",
    "# sort by score\n",
    "boro_score = boro_scores.sort('mean', ascending = False)"
   ]
  },
  {
   "cell_type": "code",
   "execution_count": 49,
   "metadata": {
    "collapsed": true
   },
   "outputs": [],
   "source": [
    "boro_score.to_csv('answers/a2.csv', line_terminator = '),(',quoting= csv.QUOTE_NONNUMERIC )"
   ]
  },
  {
   "cell_type": "code",
   "execution_count": 50,
   "metadata": {
    "collapsed": true
   },
   "outputs": [],
   "source": [
    "# # Return a list of the 75 tuples of the form\n",
    "#   `(cuisine, mean grade, stderr, number of inspections)`\n",
    "#   for each of the 75 cuisine types with at least 100 inspections. \n",
    "# **Hint**: you will have to perform a join with the `boroughs` table.  \n",
    "# Sort the list in ascendig order by score.  "
   ]
  },
  {
   "cell_type": "code",
   "execution_count": 51,
   "metadata": {
    "collapsed": true
   },
   "outputs": [],
   "source": [
    "# get the cuisine data\n",
    "cuisine = webextract[['CUISINECODE', 'SCORE']]\n",
    "\n",
    "# clean up dataframe\n",
    "cuisine = cuisine.dropna()\n",
    "cuisine['SCORE'] = cuisine['SCORE'].astype(int)"
   ]
  },
  {
   "cell_type": "code",
   "execution_count": 52,
   "metadata": {
    "collapsed": true
   },
   "outputs": [],
   "source": [
    "# group by cuisine code\n",
    "cuisine_g = cuisine.groupby('CUISINECODE')['SCORE']\n",
    "\n",
    "# do the calcuations\n",
    "cuisine_scores = cuisine_g.agg({'mean': np.mean, 'std_dev':np.std, 'count': len  })\n",
    "cuisine_scores['std_error'] = cuisine_scores['std_dev']/np.sqrt(cuisine_scores['count'])\n",
    "\n",
    "cuisine_scores = cuisine_scores[['mean', 'std_error', 'count']]"
   ]
  },
  {
   "cell_type": "code",
   "execution_count": 53,
   "metadata": {
    "collapsed": false
   },
   "outputs": [
    {
     "data": {
      "text/html": [
       "<div>\n",
       "<table border=\"1\" class=\"dataframe\">\n",
       "  <thead>\n",
       "    <tr style=\"text-align: right;\">\n",
       "      <th></th>\n",
       "      <th>CUISINECODE</th>\n",
       "      <th>CODEDESC</th>\n",
       "    </tr>\n",
       "  </thead>\n",
       "  <tbody>\n",
       "    <tr>\n",
       "      <th>0</th>\n",
       "      <td>2</td>\n",
       "      <td>African</td>\n",
       "    </tr>\n",
       "    <tr>\n",
       "      <th>1</th>\n",
       "      <td>3</td>\n",
       "      <td>American</td>\n",
       "    </tr>\n",
       "    <tr>\n",
       "      <th>2</th>\n",
       "      <td>5</td>\n",
       "      <td>Asian</td>\n",
       "    </tr>\n",
       "    <tr>\n",
       "      <th>3</th>\n",
       "      <td>15</td>\n",
       "      <td>Cajun</td>\n",
       "    </tr>\n",
       "    <tr>\n",
       "      <th>4</th>\n",
       "      <td>17</td>\n",
       "      <td>Caribbean</td>\n",
       "    </tr>\n",
       "  </tbody>\n",
       "</table>\n",
       "</div>"
      ],
      "text/plain": [
       "   CUISINECODE   CODEDESC\n",
       "0            2    African\n",
       "1            3  American \n",
       "2            5      Asian\n",
       "3           15      Cajun\n",
       "4           17  Caribbean"
      ]
     },
     "execution_count": 53,
     "metadata": {},
     "output_type": "execute_result"
    }
   ],
   "source": [
    "# get cuisine labels \n",
    "cuisine_labels = pd.io.parsers.read_csv(\"Cuisine.txt\")\n",
    "cuisine_labels.head(5)"
   ]
  },
  {
   "cell_type": "code",
   "execution_count": 54,
   "metadata": {
    "collapsed": false
   },
   "outputs": [
    {
     "data": {
      "text/html": [
       "<div>\n",
       "<table border=\"1\" class=\"dataframe\">\n",
       "  <thead>\n",
       "    <tr style=\"text-align: right;\">\n",
       "      <th></th>\n",
       "      <th>CODEDESC</th>\n",
       "      <th>mean</th>\n",
       "      <th>std_error</th>\n",
       "      <th>count</th>\n",
       "    </tr>\n",
       "  </thead>\n",
       "  <tbody>\n",
       "    <tr>\n",
       "      <th>42</th>\n",
       "      <td>Creole</td>\n",
       "      <td>30.145455</td>\n",
       "      <td>0.828039</td>\n",
       "      <td>660</td>\n",
       "    </tr>\n",
       "    <tr>\n",
       "      <th>39</th>\n",
       "      <td>Chinese/Cuban</td>\n",
       "      <td>27.424528</td>\n",
       "      <td>0.821818</td>\n",
       "      <td>424</td>\n",
       "    </tr>\n",
       "    <tr>\n",
       "      <th>69</th>\n",
       "      <td>Portuguese</td>\n",
       "      <td>26.685714</td>\n",
       "      <td>1.107902</td>\n",
       "      <td>245</td>\n",
       "    </tr>\n",
       "    <tr>\n",
       "      <th>0</th>\n",
       "      <td>African</td>\n",
       "      <td>26.658837</td>\n",
       "      <td>0.454865</td>\n",
       "      <td>1788</td>\n",
       "    </tr>\n",
       "    <tr>\n",
       "      <th>30</th>\n",
       "      <td>Bangladeshi</td>\n",
       "      <td>26.586650</td>\n",
       "      <td>0.654190</td>\n",
       "      <td>779</td>\n",
       "    </tr>\n",
       "  </tbody>\n",
       "</table>\n",
       "</div>"
      ],
      "text/plain": [
       "         CODEDESC       mean  std_error  count\n",
       "42         Creole  30.145455   0.828039    660\n",
       "39  Chinese/Cuban  27.424528   0.821818    424\n",
       "69     Portuguese  26.685714   1.107902    245\n",
       "0         African  26.658837   0.454865   1788\n",
       "30    Bangladeshi  26.586650   0.654190    779"
      ]
     },
     "execution_count": 54,
     "metadata": {},
     "output_type": "execute_result"
    }
   ],
   "source": [
    "# join cuisine lables to cuisine scores\n",
    "cuisine_final = pd.merge(cuisine_scores, cuisine_labels, \n",
    "                         left_index=True, right_on='CUISINECODE')\n",
    "cuisine_final = cuisine_final.drop('CUISINECODE', axis=1)\n",
    "\n",
    "# select top restaurants with more than 100 inspections\n",
    "cuisine_final = cuisine_final[cuisine_final['count'] > 100]\n",
    "\n",
    "cuisine_final = cuisine_final[['CODEDESC', 'mean', 'std_error', 'count']]\n",
    "\n",
    "# sort by average score\n",
    "cuisine_final = cuisine_final.sort('mean', ascending=False)\n",
    "\n",
    "\n",
    "\n",
    "\n",
    "cuisine_final.head()"
   ]
  },
  {
   "cell_type": "code",
   "execution_count": 55,
   "metadata": {
    "collapsed": false
   },
   "outputs": [],
   "source": [
    "cuisine_final.to_csv(\"answers/a3.csv\", \n",
    "                     line_terminator = '),(', quoting=csv.QUOTE_NONNUMERIC,\n",
    "                    index=False)"
   ]
  },
  {
   "cell_type": "code",
   "execution_count": 56,
   "metadata": {
    "collapsed": false
   },
   "outputs": [
    {
     "data": {
      "text/plain": [
       "Index([u'CAMIS', u'DBA', u'BORO', u'BUILDING', u'STREET', u'ZIPCODE', u'PHONE',\n",
       "       u'CUISINECODE', u'INSPDATE', u'ACTION', u'VIOLCODE', u'SCORE',\n",
       "       u'CURRENTGRADE', u'GRADEDATE', u'RECORDDATE'],\n",
       "      dtype='object')"
      ]
     },
     "execution_count": 56,
     "metadata": {},
     "output_type": "execute_result"
    }
   ],
   "source": [
    "# VIOLATIONS\n",
    "######################\n",
    "webextract.columns"
   ]
  },
  {
   "cell_type": "code",
   "execution_count": 57,
   "metadata": {
    "collapsed": false
   },
   "outputs": [
    {
     "data": {
      "text/html": [
       "<div>\n",
       "<table border=\"1\" class=\"dataframe\">\n",
       "  <thead>\n",
       "    <tr style=\"text-align: right;\">\n",
       "      <th></th>\n",
       "      <th>CAMIS</th>\n",
       "      <th>DBA</th>\n",
       "      <th>BORO</th>\n",
       "      <th>BUILDING</th>\n",
       "      <th>STREET</th>\n",
       "      <th>ZIPCODE</th>\n",
       "      <th>PHONE</th>\n",
       "      <th>CUISINECODE</th>\n",
       "      <th>INSPDATE</th>\n",
       "      <th>ACTION</th>\n",
       "      <th>VIOLCODE</th>\n",
       "      <th>SCORE</th>\n",
       "      <th>CURRENTGRADE</th>\n",
       "      <th>GRADEDATE</th>\n",
       "      <th>RECORDDATE</th>\n",
       "    </tr>\n",
       "  </thead>\n",
       "  <tbody>\n",
       "    <tr>\n",
       "      <th>0</th>\n",
       "      <td>30075445</td>\n",
       "      <td>MORRIS PARK BAKE SHOP</td>\n",
       "      <td>2</td>\n",
       "      <td>1007</td>\n",
       "      <td>MORRIS PARK AVE                               ...</td>\n",
       "      <td>10462</td>\n",
       "      <td>7188924968</td>\n",
       "      <td>8</td>\n",
       "      <td>2014-03-03 00:00:00</td>\n",
       "      <td>D</td>\n",
       "      <td>10F</td>\n",
       "      <td>2</td>\n",
       "      <td>A</td>\n",
       "      <td>2014-03-03 00:00:00</td>\n",
       "      <td>2014-09-04 06:01:28.403000000</td>\n",
       "    </tr>\n",
       "    <tr>\n",
       "      <th>1</th>\n",
       "      <td>30112340</td>\n",
       "      <td>WENDY'S</td>\n",
       "      <td>3</td>\n",
       "      <td>469</td>\n",
       "      <td>FLATBUSH AVENUE</td>\n",
       "      <td>11225</td>\n",
       "      <td>7182875005</td>\n",
       "      <td>39</td>\n",
       "      <td>2014-07-01 00:00:00</td>\n",
       "      <td>F</td>\n",
       "      <td>06A</td>\n",
       "      <td>23</td>\n",
       "      <td>B</td>\n",
       "      <td>2014-07-01 00:00:00</td>\n",
       "      <td>2014-09-04 06:01:28.403000000</td>\n",
       "    </tr>\n",
       "    <tr>\n",
       "      <th>2</th>\n",
       "      <td>30191841</td>\n",
       "      <td>DJ REYNOLDS PUB AND RESTAURANT</td>\n",
       "      <td>1</td>\n",
       "      <td>351</td>\n",
       "      <td>WEST 57 STREET</td>\n",
       "      <td>10019</td>\n",
       "      <td>2122452912</td>\n",
       "      <td>3</td>\n",
       "      <td>2013-07-22 00:00:00</td>\n",
       "      <td>D</td>\n",
       "      <td>10B</td>\n",
       "      <td>11</td>\n",
       "      <td>A</td>\n",
       "      <td>2013-07-22 00:00:00</td>\n",
       "      <td>2014-09-04 06:01:28.403000000</td>\n",
       "    </tr>\n",
       "    <tr>\n",
       "      <th>3</th>\n",
       "      <td>40356483</td>\n",
       "      <td>WILKEN'S FINE FOOD</td>\n",
       "      <td>3</td>\n",
       "      <td>7114</td>\n",
       "      <td>AVENUE U</td>\n",
       "      <td>11234</td>\n",
       "      <td>7184443838</td>\n",
       "      <td>27</td>\n",
       "      <td>2014-05-29 00:00:00</td>\n",
       "      <td>D</td>\n",
       "      <td>08C</td>\n",
       "      <td>10</td>\n",
       "      <td>A</td>\n",
       "      <td>2014-05-29 00:00:00</td>\n",
       "      <td>2014-09-04 06:01:28.403000000</td>\n",
       "    </tr>\n",
       "    <tr>\n",
       "      <th>4</th>\n",
       "      <td>30191841</td>\n",
       "      <td>DJ REYNOLDS PUB AND RESTAURANT</td>\n",
       "      <td>1</td>\n",
       "      <td>351</td>\n",
       "      <td>WEST 57 STREET</td>\n",
       "      <td>10019</td>\n",
       "      <td>2122452912</td>\n",
       "      <td>3</td>\n",
       "      <td>2013-07-22 00:00:00</td>\n",
       "      <td>D</td>\n",
       "      <td>02G</td>\n",
       "      <td>11</td>\n",
       "      <td>A</td>\n",
       "      <td>2013-07-22 00:00:00</td>\n",
       "      <td>2014-09-04 06:01:28.403000000</td>\n",
       "    </tr>\n",
       "  </tbody>\n",
       "</table>\n",
       "</div>"
      ],
      "text/plain": [
       "      CAMIS                             DBA  BORO    BUILDING  \\\n",
       "0  30075445           MORRIS PARK BAKE SHOP     2  1007         \n",
       "1  30112340                         WENDY'S     3         469   \n",
       "2  30191841  DJ REYNOLDS PUB AND RESTAURANT     1         351   \n",
       "3  40356483              WILKEN'S FINE FOOD     3  7114         \n",
       "4  30191841  DJ REYNOLDS PUB AND RESTAURANT     1         351   \n",
       "\n",
       "                                              STREET  ZIPCODE       PHONE  \\\n",
       "0  MORRIS PARK AVE                               ...    10462  7188924968   \n",
       "1                                    FLATBUSH AVENUE    11225  7182875005   \n",
       "2                                     WEST 57 STREET    10019  2122452912   \n",
       "3                   AVENUE U                            11234  7184443838   \n",
       "4                                     WEST 57 STREET    10019  2122452912   \n",
       "\n",
       "   CUISINECODE             INSPDATE ACTION VIOLCODE  SCORE CURRENTGRADE  \\\n",
       "0            8  2014-03-03 00:00:00      D      10F      2            A   \n",
       "1           39  2014-07-01 00:00:00      F      06A     23            B   \n",
       "2            3  2013-07-22 00:00:00      D      10B     11            A   \n",
       "3           27  2014-05-29 00:00:00      D      08C     10            A   \n",
       "4            3  2013-07-22 00:00:00      D      02G     11            A   \n",
       "\n",
       "             GRADEDATE                     RECORDDATE  \n",
       "0  2014-03-03 00:00:00  2014-09-04 06:01:28.403000000  \n",
       "1  2014-07-01 00:00:00  2014-09-04 06:01:28.403000000  \n",
       "2  2013-07-22 00:00:00  2014-09-04 06:01:28.403000000  \n",
       "3  2014-05-29 00:00:00  2014-09-04 06:01:28.403000000  \n",
       "4  2013-07-22 00:00:00  2014-09-04 06:01:28.403000000  "
      ]
     },
     "execution_count": 57,
     "metadata": {},
     "output_type": "execute_result"
    }
   ],
   "source": [
    "webextract.head()"
   ]
  },
  {
   "cell_type": "code",
   "execution_count": 58,
   "metadata": {
    "collapsed": false
   },
   "outputs": [
    {
     "data": {
      "text/plain": [
       "(520720, 3)"
      ]
     },
     "execution_count": 58,
     "metadata": {},
     "output_type": "execute_result"
    }
   ],
   "source": [
    "# violations per restaurant inspection\n",
    "\n",
    "violate = webextract[['VIOLCODE', 'CUISINECODE', 'INSPDATE']]\n",
    "violate = violate.dropna()\n",
    "violate = violate.reset_index(drop=True)\n",
    "\n",
    "\n",
    "# need dates\n",
    "from datetime import datetime\n",
    "violate['INSPDATE'] = pd.to_datetime(violate['INSPDATE'])\n",
    "\n",
    "violate.shape"
   ]
  },
  {
   "cell_type": "markdown",
   "metadata": {
    "collapsed": true
   },
   "source": [
    "# Cleaning violation"
   ]
  },
  {
   "cell_type": "code",
   "execution_count": 59,
   "metadata": {
    "collapsed": false
   },
   "outputs": [],
   "source": [
    "# # first clean up\n",
    "\n",
    "# # clean up violation\n",
    "import re\n",
    "\n",
    "# # remove html tags\n",
    "def remove_a(text):\n",
    "    temp =  re.sub(r\"<a.*A>\", \"\", text)\n",
    "    temp = re.sub(r\"<a.*</a>\", \"\", temp)\n",
    "    return temp\n",
    "\n",
    "# # read violation in CHEATED - removed degree symbols by hand\n",
    "with open('Violation.txt') as f:\n",
    "    viol = f.readlines()\n",
    "\n",
    "# # save clean violation\n",
    "with open('Violation_Clean.csv', 'w') as f:\n",
    "    for row in viol:\n",
    "        temp = remove_a(row)\n",
    "        temp = re.sub(r'(\",\")', r';;;', temp)\n",
    "        temp = re.sub(r'^\"', '', temp)\n",
    "        temp = re.sub(r'\"\\r\\n', r'\\r\\n', temp)\n",
    "        f.write(temp)"
   ]
  },
  {
   "cell_type": "code",
   "execution_count": 60,
   "metadata": {
    "collapsed": true
   },
   "outputs": [],
   "source": [
    "# write function to output 'iso-8859-1' \n",
    "def display_encode(head):\n",
    "    f_answer = []\n",
    "    for row in head.iterrows():\n",
    "       f_answer.append((\n",
    "            (row[1][0], row[1][1]), \n",
    "            row[1][2]))\n",
    "    return f_answer\n",
    "\n",
    "# with open('answers/violationratio.csv', 'wb') as f:\n",
    "#         s = u\"[\" + y + u\"]\"\n",
    "#         f.write(s)\n",
    "#q = ', '.join(f_answer).decode('string_escape').decode('iso-8859-1')"
   ]
  },
  {
   "cell_type": "markdown",
   "metadata": {},
   "source": [
    "# Violation labels in the data"
   ]
  },
  {
   "cell_type": "code",
   "execution_count": 61,
   "metadata": {
    "collapsed": false
   },
   "outputs": [
    {
     "name": "stderr",
     "output_type": "stream",
     "text": [
      "/opt/conda/lib/python2.7/site-packages/pandas/io/parsers.py:648: ParserWarning: Falling back to the 'python' engine because the 'c' engine does not support regex separators; you can avoid this warning by specifying engine='python'.\n",
      "  ParserWarning)\n"
     ]
    }
   ],
   "source": [
    "violate_labels = pd.io.parsers.read_csv(\"Violation_Clean.csv\", \n",
    "                                        sep=r';;;',\n",
    "                                        encoding='iso-8859-1')\n",
    "\n",
    "violate_labels = violate_labels.dropna()\n",
    "violate_labels = violate_labels.reset_index(drop=False)\n",
    "violate_labels['VIOLCODE'] = violate_labels['VIOLATIONCODE']\n",
    "#violate_labels.drop('VIOLATIONCODE', axis=1, inplace=True)"
   ]
  },
  {
   "cell_type": "code",
   "execution_count": 62,
   "metadata": {
    "collapsed": false
   },
   "outputs": [
    {
     "data": {
      "text/html": [
       "<div>\n",
       "<table border=\"1\" class=\"dataframe\">\n",
       "  <thead>\n",
       "    <tr style=\"text-align: right;\">\n",
       "      <th></th>\n",
       "      <th>index</th>\n",
       "      <th>STARTDATE</th>\n",
       "      <th>ENDDATE</th>\n",
       "      <th>CRITICALFLAG</th>\n",
       "      <th>VIOLATIONCODE</th>\n",
       "      <th>VIOLATIONDESC</th>\n",
       "      <th>VIOLCODE</th>\n",
       "    </tr>\n",
       "  </thead>\n",
       "  <tbody>\n",
       "    <tr>\n",
       "      <th>0</th>\n",
       "      <td>0</td>\n",
       "      <td>1901-01-01 00:00:00</td>\n",
       "      <td>2003-03-23 00:00:00</td>\n",
       "      <td>Y</td>\n",
       "      <td>01A</td>\n",
       "      <td>Current valid  , registration or other authori...</td>\n",
       "      <td>01A</td>\n",
       "    </tr>\n",
       "    <tr>\n",
       "      <th>1</th>\n",
       "      <td>1</td>\n",
       "      <td>2003-03-24 00:00:00</td>\n",
       "      <td>2005-02-17 00:00:00</td>\n",
       "      <td>Y</td>\n",
       "      <td>01A</td>\n",
       "      <td>Current valid  , registration or other authori...</td>\n",
       "      <td>01A</td>\n",
       "    </tr>\n",
       "    <tr>\n",
       "      <th>2</th>\n",
       "      <td>2</td>\n",
       "      <td>2005-02-18 00:00:00</td>\n",
       "      <td>2007-06-30 00:00:00</td>\n",
       "      <td>Y</td>\n",
       "      <td>01A</td>\n",
       "      <td>Current valid  , registration or other authori...</td>\n",
       "      <td>01A</td>\n",
       "    </tr>\n",
       "    <tr>\n",
       "      <th>3</th>\n",
       "      <td>3</td>\n",
       "      <td>2007-07-01 00:00:00</td>\n",
       "      <td>2008-06-30 00:00:00</td>\n",
       "      <td>Y</td>\n",
       "      <td>01A</td>\n",
       "      <td>Current valid permit, registration or other au...</td>\n",
       "      <td>01A</td>\n",
       "    </tr>\n",
       "    <tr>\n",
       "      <th>4</th>\n",
       "      <td>4</td>\n",
       "      <td>2008-07-01 00:00:00</td>\n",
       "      <td>2009-08-01 00:00:00</td>\n",
       "      <td>Y</td>\n",
       "      <td>01A</td>\n",
       "      <td>Current valid permit, registration or other au...</td>\n",
       "      <td>01A</td>\n",
       "    </tr>\n",
       "  </tbody>\n",
       "</table>\n",
       "</div>"
      ],
      "text/plain": [
       "   index            STARTDATE              ENDDATE CRITICALFLAG VIOLATIONCODE  \\\n",
       "0      0  1901-01-01 00:00:00  2003-03-23 00:00:00            Y           01A   \n",
       "1      1  2003-03-24 00:00:00  2005-02-17 00:00:00            Y           01A   \n",
       "2      2  2005-02-18 00:00:00  2007-06-30 00:00:00            Y           01A   \n",
       "3      3  2007-07-01 00:00:00  2008-06-30 00:00:00            Y           01A   \n",
       "4      4  2008-07-01 00:00:00  2009-08-01 00:00:00            Y           01A   \n",
       "\n",
       "                                       VIOLATIONDESC VIOLCODE  \n",
       "0  Current valid  , registration or other authori...      01A  \n",
       "1  Current valid  , registration or other authori...      01A  \n",
       "2  Current valid  , registration or other authori...      01A  \n",
       "3  Current valid permit, registration or other au...      01A  \n",
       "4  Current valid permit, registration or other au...      01A  "
      ]
     },
     "execution_count": 62,
     "metadata": {},
     "output_type": "execute_result"
    }
   ],
   "source": [
    "violate_labels.head()"
   ]
  },
  {
   "cell_type": "code",
   "execution_count": 63,
   "metadata": {
    "collapsed": true
   },
   "outputs": [],
   "source": [
    "# change to date time value\n",
    "violate_labels['STARTDATE'] = pd.to_datetime(violate_labels['STARTDATE'])\n",
    "violate_labels['ENDDATE'] = pd.to_datetime(violate_labels['ENDDATE'])"
   ]
  },
  {
   "cell_type": "code",
   "execution_count": 64,
   "metadata": {
    "collapsed": false
   },
   "outputs": [
    {
     "data": {
      "text/html": [
       "<div>\n",
       "<table border=\"1\" class=\"dataframe\">\n",
       "  <thead>\n",
       "    <tr style=\"text-align: right;\">\n",
       "      <th></th>\n",
       "      <th>STARTDATE</th>\n",
       "      <th>ENDDATE</th>\n",
       "      <th>VIOLATIONCODE</th>\n",
       "      <th>VIOLATIONDESC</th>\n",
       "      <th>VIOLCODE</th>\n",
       "      <th>CUISINECODE</th>\n",
       "      <th>INSPDATE</th>\n",
       "    </tr>\n",
       "  </thead>\n",
       "  <tbody>\n",
       "    <tr>\n",
       "      <th>0</th>\n",
       "      <td>2005-02-18</td>\n",
       "      <td>2007-06-30</td>\n",
       "      <td>02A</td>\n",
       "      <td>Food not cooked to required minimum temperature.</td>\n",
       "      <td>02A</td>\n",
       "      <td>3</td>\n",
       "      <td>2014-07-07</td>\n",
       "    </tr>\n",
       "    <tr>\n",
       "      <th>1</th>\n",
       "      <td>2005-02-18</td>\n",
       "      <td>2007-06-30</td>\n",
       "      <td>02A</td>\n",
       "      <td>Food not cooked to required minimum temperature.</td>\n",
       "      <td>02A</td>\n",
       "      <td>48</td>\n",
       "      <td>2014-02-24</td>\n",
       "    </tr>\n",
       "    <tr>\n",
       "      <th>2</th>\n",
       "      <td>2005-02-18</td>\n",
       "      <td>2007-06-30</td>\n",
       "      <td>02A</td>\n",
       "      <td>Food not cooked to required minimum temperature.</td>\n",
       "      <td>02A</td>\n",
       "      <td>82</td>\n",
       "      <td>2014-03-24</td>\n",
       "    </tr>\n",
       "    <tr>\n",
       "      <th>3</th>\n",
       "      <td>2005-02-18</td>\n",
       "      <td>2007-06-30</td>\n",
       "      <td>02A</td>\n",
       "      <td>Food not cooked to required minimum temperature.</td>\n",
       "      <td>02A</td>\n",
       "      <td>20</td>\n",
       "      <td>2014-04-24</td>\n",
       "    </tr>\n",
       "    <tr>\n",
       "      <th>4</th>\n",
       "      <td>2005-02-18</td>\n",
       "      <td>2007-06-30</td>\n",
       "      <td>02A</td>\n",
       "      <td>Food not cooked to required minimum temperature.</td>\n",
       "      <td>02A</td>\n",
       "      <td>35</td>\n",
       "      <td>2014-08-28</td>\n",
       "    </tr>\n",
       "  </tbody>\n",
       "</table>\n",
       "</div>"
      ],
      "text/plain": [
       "   STARTDATE    ENDDATE VIOLATIONCODE  \\\n",
       "0 2005-02-18 2007-06-30           02A   \n",
       "1 2005-02-18 2007-06-30           02A   \n",
       "2 2005-02-18 2007-06-30           02A   \n",
       "3 2005-02-18 2007-06-30           02A   \n",
       "4 2005-02-18 2007-06-30           02A   \n",
       "\n",
       "                                      VIOLATIONDESC VIOLCODE  CUISINECODE  \\\n",
       "0  Food not cooked to required minimum temperature.      02A            3   \n",
       "1  Food not cooked to required minimum temperature.      02A           48   \n",
       "2  Food not cooked to required minimum temperature.      02A           82   \n",
       "3  Food not cooked to required minimum temperature.      02A           20   \n",
       "4  Food not cooked to required minimum temperature.      02A           35   \n",
       "\n",
       "    INSPDATE  \n",
       "0 2014-07-07  \n",
       "1 2014-02-24  \n",
       "2 2014-03-24  \n",
       "3 2014-04-24  \n",
       "4 2014-08-28  "
      ]
     },
     "execution_count": 64,
     "metadata": {},
     "output_type": "execute_result"
    }
   ],
   "source": [
    "# merge the labels with the data\n",
    "all_violate = pd.merge(violate_labels, violate)\n",
    "all_violate = all_violate.drop(['index', 'CRITICALFLAG'],axis=1)\n",
    "all_violate.head()"
   ]
  },
  {
   "cell_type": "code",
   "execution_count": 65,
   "metadata": {
    "collapsed": true
   },
   "outputs": [],
   "source": [
    "# select out inspection date that lies between start and end date\n",
    "between = (all_violate['INSPDATE'] > all_violate['STARTDATE']) & (all_violate['INSPDATE'] < all_violate['ENDDATE'])"
   ]
  },
  {
   "cell_type": "code",
   "execution_count": 66,
   "metadata": {
    "collapsed": true
   },
   "outputs": [],
   "source": [
    "f_violate = all_violate[between]"
   ]
  },
  {
   "cell_type": "code",
   "execution_count": 67,
   "metadata": {
    "collapsed": true
   },
   "outputs": [],
   "source": [
    "# now restrict to VIOLATIONDESC, CUISINECODE\n",
    "f_violate = f_violate[['VIOLATIONDESC', 'CUISINECODE', 'VIOLCODE']].reset_index(drop=True)"
   ]
  },
  {
   "cell_type": "code",
   "execution_count": 68,
   "metadata": {
    "collapsed": false
   },
   "outputs": [
    {
     "data": {
      "text/plain": [
       "(520720, 3)"
      ]
     },
     "execution_count": 68,
     "metadata": {},
     "output_type": "execute_result"
    }
   ],
   "source": [
    "f_violate.shape"
   ]
  },
  {
   "cell_type": "code",
   "execution_count": 81,
   "metadata": {
    "collapsed": false
   },
   "outputs": [
    {
     "data": {
      "text/plain": [
       "520720"
      ]
     },
     "execution_count": 81,
     "metadata": {},
     "output_type": "execute_result"
    }
   ],
   "source": [
    "# ON to probabilities.....\n",
    "\n",
    "x =f_violate\n",
    "x['count'] = 1\n",
    "np.sum(x['count'])"
   ]
  },
  {
   "cell_type": "code",
   "execution_count": 84,
   "metadata": {
    "collapsed": false
   },
   "outputs": [],
   "source": [
    "# The ratios don't mean much when the number of violations of a given type \n",
    "# and for a specific category are not large (why not?).  \n",
    "#Be sure to filter these out.  We chose 100 as our cutoff.\n",
    "\n",
    "\n",
    "# violations per cuisine per description code\n",
    "group_viol_cuis = x.groupby([\"CUISINECODE\", \"VIOLATIONDESC\"])['count']\n",
    "x['viol_per'] = group_viol_cuis.transform(np.sum)\n",
    "\n",
    "# drop the count variable\n",
    "#x = x.drop_duplicates()\n",
    "#x = x.drop('count', axis=1)\n",
    "#x = x.reset_index()"
   ]
  },
  {
   "cell_type": "code",
   "execution_count": 85,
   "metadata": {
    "collapsed": false
   },
   "outputs": [
    {
     "data": {
      "text/plain": [
       "520720"
      ]
     },
     "execution_count": 85,
     "metadata": {},
     "output_type": "execute_result"
    }
   ],
   "source": [
    "x.head()\n",
    "np.sum(x['count'])"
   ]
  },
  {
   "cell_type": "code",
   "execution_count": 86,
   "metadata": {
    "collapsed": false
   },
   "outputs": [],
   "source": [
    "# The ratios don't mean much when the number of violations of a given type \n",
    "# and for a specific category are not large (why not?).  \n",
    "#Be sure to filter these out.  We chose 100 as our cutoff.\n",
    "\n",
    "#x = x[x['viol_per'] > 100]\n",
    "\n",
    "# have counts so we can clean up\n",
    "#x = x.drop_duplicates()\n",
    "#x = x.drop('count', axis=1)\n",
    "\n",
    "#x = x.reset_index()\n",
    "#np.sum(x['viol_per'])"
   ]
  },
  {
   "cell_type": "code",
   "execution_count": 87,
   "metadata": {
    "collapsed": false
   },
   "outputs": [],
   "source": [
    "# violations larger categories\n",
    "\n",
    "#per cuisine violations\n",
    "\n",
    "group_cuisine = x.groupby([\"CUISINECODE\"])['count']\n",
    "x['per_cuisine'] = group_cuisine.transform(np.sum) "
   ]
  },
  {
   "cell_type": "code",
   "execution_count": 88,
   "metadata": {
    "collapsed": false
   },
   "outputs": [
    {
     "data": {
      "text/plain": [
       "520720"
      ]
     },
     "execution_count": 88,
     "metadata": {},
     "output_type": "execute_result"
    }
   ],
   "source": [
    "#total violations per violation description\n",
    "group_violation = x.groupby([\"VIOLATIONDESC\"])['count']\n",
    "x['per_violation'] = group_violation.transform(np.sum) \n",
    "\n",
    "# total violations\n",
    "x['total_violation'] = np.sum(x['count'])\n",
    "\n",
    "x['total_violation'][0]"
   ]
  },
  {
   "cell_type": "code",
   "execution_count": 89,
   "metadata": {
    "collapsed": true
   },
   "outputs": [],
   "source": [
    "# calculate conditional prob of violation per cusine code\n",
    "x['prob_cuisine'] = x['viol_per']/ x['per_cuisine']\n",
    "\n",
    "# calculat prob of violation\n",
    "x['prob_viol'] = x['per_violation']/x['total_violation']\n",
    "\n",
    "# compute ratios\n",
    "\n",
    "x['ratio'] = x['prob_cuisine']/x['prob_viol']"
   ]
  },
  {
   "cell_type": "code",
   "execution_count": 90,
   "metadata": {
    "collapsed": false
   },
   "outputs": [
    {
     "data": {
      "text/html": [
       "<div>\n",
       "<table border=\"1\" class=\"dataframe\">\n",
       "  <thead>\n",
       "    <tr style=\"text-align: right;\">\n",
       "      <th></th>\n",
       "      <th>index</th>\n",
       "      <th>VIOLATIONDESC</th>\n",
       "      <th>CUISINECODE</th>\n",
       "      <th>VIOLCODE</th>\n",
       "      <th>count</th>\n",
       "      <th>viol_per</th>\n",
       "      <th>per_cuisine</th>\n",
       "      <th>per_violation</th>\n",
       "      <th>total_violation</th>\n",
       "      <th>prob_cuisine</th>\n",
       "      <th>prob_viol</th>\n",
       "      <th>ratio</th>\n",
       "    </tr>\n",
       "  </thead>\n",
       "  <tbody>\n",
       "    <tr>\n",
       "      <th>0</th>\n",
       "      <td>517442</td>\n",
       "      <td>Bulb not shielded or shatterproof, in areas wh...</td>\n",
       "      <td>99</td>\n",
       "      <td>22C</td>\n",
       "      <td>1</td>\n",
       "      <td>25</td>\n",
       "      <td>1881</td>\n",
       "      <td>4401</td>\n",
       "      <td>520720</td>\n",
       "      <td>0.013291</td>\n",
       "      <td>0.008452</td>\n",
       "      <td>1.572549</td>\n",
       "    </tr>\n",
       "    <tr>\n",
       "      <th>1</th>\n",
       "      <td>477258</td>\n",
       "      <td>Non-food contact surface improperly constructe...</td>\n",
       "      <td>99</td>\n",
       "      <td>10F</td>\n",
       "      <td>1</td>\n",
       "      <td>270</td>\n",
       "      <td>1881</td>\n",
       "      <td>66420</td>\n",
       "      <td>520720</td>\n",
       "      <td>0.143541</td>\n",
       "      <td>0.127554</td>\n",
       "      <td>1.125331</td>\n",
       "    </tr>\n",
       "    <tr>\n",
       "      <th>2</th>\n",
       "      <td>80017</td>\n",
       "      <td>Food Protection Certificate not held by superv...</td>\n",
       "      <td>99</td>\n",
       "      <td>04A</td>\n",
       "      <td>1</td>\n",
       "      <td>60</td>\n",
       "      <td>1881</td>\n",
       "      <td>9264</td>\n",
       "      <td>520720</td>\n",
       "      <td>0.031898</td>\n",
       "      <td>0.017791</td>\n",
       "      <td>1.792950</td>\n",
       "    </tr>\n",
       "    <tr>\n",
       "      <th>3</th>\n",
       "      <td>296556</td>\n",
       "      <td>Facility not vermin proof. Harborage or condit...</td>\n",
       "      <td>99</td>\n",
       "      <td>08A</td>\n",
       "      <td>1</td>\n",
       "      <td>137</td>\n",
       "      <td>1881</td>\n",
       "      <td>49561</td>\n",
       "      <td>520720</td>\n",
       "      <td>0.072834</td>\n",
       "      <td>0.095178</td>\n",
       "      <td>0.765237</td>\n",
       "    </tr>\n",
       "    <tr>\n",
       "      <th>4</th>\n",
       "      <td>484652</td>\n",
       "      <td>Proper sanitization not provided for utensil w...</td>\n",
       "      <td>99</td>\n",
       "      <td>10H</td>\n",
       "      <td>1</td>\n",
       "      <td>75</td>\n",
       "      <td>1881</td>\n",
       "      <td>8727</td>\n",
       "      <td>520720</td>\n",
       "      <td>0.039872</td>\n",
       "      <td>0.016759</td>\n",
       "      <td>2.379095</td>\n",
       "    </tr>\n",
       "    <tr>\n",
       "      <th>5</th>\n",
       "      <td>296541</td>\n",
       "      <td>Facility not vermin proof. Harborage or condit...</td>\n",
       "      <td>99</td>\n",
       "      <td>08A</td>\n",
       "      <td>1</td>\n",
       "      <td>137</td>\n",
       "      <td>1881</td>\n",
       "      <td>49561</td>\n",
       "      <td>520720</td>\n",
       "      <td>0.072834</td>\n",
       "      <td>0.095178</td>\n",
       "      <td>0.765237</td>\n",
       "    </tr>\n",
       "  </tbody>\n",
       "</table>\n",
       "</div>"
      ],
      "text/plain": [
       "    index                                      VIOLATIONDESC  CUISINECODE  \\\n",
       "0  517442  Bulb not shielded or shatterproof, in areas wh...           99   \n",
       "1  477258  Non-food contact surface improperly constructe...           99   \n",
       "2   80017  Food Protection Certificate not held by superv...           99   \n",
       "3  296556  Facility not vermin proof. Harborage or condit...           99   \n",
       "4  484652  Proper sanitization not provided for utensil w...           99   \n",
       "5  296541  Facility not vermin proof. Harborage or condit...           99   \n",
       "\n",
       "  VIOLCODE  count  viol_per  per_cuisine  per_violation  total_violation  \\\n",
       "0      22C      1        25         1881           4401           520720   \n",
       "1      10F      1       270         1881          66420           520720   \n",
       "2      04A      1        60         1881           9264           520720   \n",
       "3      08A      1       137         1881          49561           520720   \n",
       "4      10H      1        75         1881           8727           520720   \n",
       "5      08A      1       137         1881          49561           520720   \n",
       "\n",
       "   prob_cuisine  prob_viol     ratio  \n",
       "0      0.013291   0.008452  1.572549  \n",
       "1      0.143541   0.127554  1.125331  \n",
       "2      0.031898   0.017791  1.792950  \n",
       "3      0.072834   0.095178  0.765237  \n",
       "4      0.039872   0.016759  2.379095  \n",
       "5      0.072834   0.095178  0.765237  "
      ]
     },
     "execution_count": 90,
     "metadata": {},
     "output_type": "execute_result"
    }
   ],
   "source": [
    "x.sort('CUISINECODE', ascending=False).reset_index().loc[[0,1,2,3,4,5]]"
   ]
  },
  {
   "cell_type": "code",
   "execution_count": 91,
   "metadata": {
    "collapsed": true
   },
   "outputs": [],
   "source": [
    "# adjusting the form\n",
    "\n",
    "# merge with cuisine_labels\n",
    "answer = x[['VIOLATIONDESC', 'ratio', 'viol_per', 'CUISINECODE']].merge(cuisine_labels)\n",
    "\n",
    "answer = answer.drop('CUISINECODE', axis=1)\n",
    "answer = answer[['CODEDESC', 'VIOLATIONDESC', 'ratio', 'viol_per']]\n",
    "answer = answer.sort('ratio', ascending=False)\n",
    "answer = answer.reset_index(drop=True)"
   ]
  },
  {
   "cell_type": "code",
   "execution_count": 92,
   "metadata": {
    "collapsed": false
   },
   "outputs": [
    {
     "name": "stderr",
     "output_type": "stream",
     "text": [
      "/opt/conda/lib/python2.7/site-packages/pandas/core/frame.py:1825: UserWarning: Boolean Series key will be reindexed to match DataFrame index.\n",
      "  \"DataFrame index.\", UserWarning)\n"
     ]
    }
   ],
   "source": [
    "#write down the answer\n",
    "f_answer = answer.drop_duplicates()\n",
    "\n",
    "\n",
    "f_answer = f_answer[answer['viol_per'] > 100]\n",
    "f_answer = f_answer[:20]"
   ]
  },
  {
   "cell_type": "code",
   "execution_count": 93,
   "metadata": {
    "collapsed": true
   },
   "outputs": [],
   "source": [
    "f_answer = [str(((\n",
    "            row[1][0], \n",
    "            row[1][1]\n",
    "            ), \n",
    "            row[1][2], \n",
    "            row[1][3]) )  for row in f_answer.iterrows()]\n",
    "\n",
    "\n",
    "# with open('answers/violationratio.csv', 'wb') as f:\n",
    "#         s = u\"[\" + y + u\"]\"\n",
    "#         f.write(s)\n",
    "q = ', '.join(f_answer).decode('string_escape').decode('iso-8859-1')"
   ]
  },
  {
   "cell_type": "code",
   "execution_count": 94,
   "metadata": {
    "collapsed": true
   },
   "outputs": [],
   "source": [
    "f = open('answers/violationratio.csv', 'w')\n",
    "f.write(q.encode('iso-8859-1'))\n",
    "f.close()"
   ]
  },
  {
   "cell_type": "code",
   "execution_count": 95,
   "metadata": {
    "collapsed": false
   },
   "outputs": [
    {
     "name": "stdout",
     "output_type": "stream",
     "text": [
      "(('Japanese', 'Food worker does not use proper utensil to eliminate bare hand contact with food that will not receive adequate additional heat treatment.'), 3.244173663303972, 541), (('Café/Coffee/Tea', 'Choking first aid poster not posted. Alcohol and pregnancy warning sign not posted. Resuscitation equipment: exhaled air resuscitation masks (adult & pediatric), latex gloves, sign not posted. Inspection report sign not posted.'), 3.1528542316115793, 175), (('Juice, Smoothies, Fruit Salads', 'Food Protection Certificate not held by supervisor of food operations.'), 3.0895762870547507, 145), (('Donuts', 'Accurate thermometer not provided in refrigerated or hot holding equipment.'), 3.0373024983434593, 130), (('Ice Cream, Gelato, Yogurt, Ices', 'Food Protection Certificate not held by supervisor of food operations.'), 2.955949137148047, 193), (('Thai', 'Thawing procedures improper.'), 2.6329943302133367, 151), (('Irish', 'Raw, cooked or prepared food is adulterated, contaminated, cross-contaminated, or not discarded in accordance with HACCP plan.'), 2.3693049675211078, 321), (('Mexican', 'Food not cooled by an approved method whereby the internal product temperature is reduced from 140º F to 70º F or less within 2 hours, and from 70º F to 41º F or less within 4 additional hours.'), 2.3260790831701716, 260), (('Indian', 'Food not cooled by an approved method whereby the internal product temperature is reduced from 140º F to 70º F or less within 2 hours, and from 70º F to 41º F or less within 4 additional hours.'), 2.2589839331918253, 112), (('Chinese', 'Thawing procedures improper.'), 2.197103345855651, 1121), (('Caribbean', 'Food not cooled by an approved method whereby the internal product temperature is reduced from 140º F to 70º F or less within 2 hours, and from 70º F to 41º F or less within 4 additional hours.'), 2.108426763110307, 206), (('Hamburgers', 'Accurate thermometer not provided in refrigerated or hot holding equipment.'), 2.0946895908706287, 109), (('Soups & Sandwiches', 'Cold food item held above 41º F (smoked fish and reduced oxygen packaged foods above 38 ºF) except during necessary preparation.'), 2.0915150368737465, 106), (('Chinese', 'Food worker does not wash hands thoroughly after using the toilet, coughing, sneezing, smoking, eating, preparing raw foods or otherwise contaminating hands.'), 2.0865716798779195, 121), (('American ', '\"\"No Smoking and/or 'Smoking Permitted sign not conspicuously posted. Health warning not present on 'Smoking Permitted'), 2.0798573716850686, 227), (('Donuts', 'Bulb not shielded or shatterproof, in areas where there is extreme heat, temperature changes, or where accidental contact may occur.'), 2.064896404236226, 110), (('Middle Eastern', 'Food Protection Certificate not held by supervisor of food operations.'), 1.9850440015702, 117), (('Spanish', 'Food not cooled by an approved method whereby the internal product temperature is reduced from 140º F to 70º F or less within 2 hours, and from 70º F to 41º F or less within 4 additional hours.'), 1.9008790167390315, 151), (('Hamburgers', 'Filth flies or food/refuse/sewage-associated (FRSA) flies present in facilitys food and/or non-food areas. Filth flies include house flies, little house flies, blow flies, bottle flies and flesh flies. Food/refuse/sewage-associated flies include fruit flies, drain flies and Phorid flies.'), 1.8956434541920506, 600), (('Café/Coffee/Tea', 'Toilet facility not maintained and provided with toilet paper, waste receptacle and self-closing door.'), 1.883642092981594, 315)\n"
     ]
    }
   ],
   "source": [
    "print q"
   ]
  },
  {
   "cell_type": "code",
   "execution_count": null,
   "metadata": {
    "collapsed": true
   },
   "outputs": [],
   "source": []
  }
 ],
 "metadata": {
  "kernelspec": {
   "display_name": "Python 2",
   "language": "python",
   "name": "python2"
  },
  "language_info": {
   "codemirror_mode": {
    "name": "ipython",
    "version": 2
   },
   "file_extension": ".py",
   "mimetype": "text/x-python",
   "name": "python",
   "nbconvert_exporter": "python",
   "pygments_lexer": "ipython2",
   "version": "2.7.10"
  }
 },
 "nbformat": 4,
 "nbformat_minor": 0
}
